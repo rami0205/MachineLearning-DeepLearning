{
 "cells": [
  {
   "cell_type": "markdown",
   "metadata": {},
   "source": [
    "# K-Nearest Neighborhood Algorithm 직접 코딩\n",
    "### Object Oriented Programming"
   ]
  },
  {
   "cell_type": "code",
   "execution_count": 1,
   "metadata": {},
   "outputs": [],
   "source": [
    "from sklearn import datasets\n",
    "import numpy as np\n",
    "import pandas as pd\n",
    "import matplotlib.pyplot as plt\n",
    "from tqdm import tqdm\n",
    "import time"
   ]
  },
  {
   "cell_type": "markdown",
   "metadata": {},
   "source": [
    "## KNN class 생성"
   ]
  },
  {
   "cell_type": "code",
   "execution_count": 2,
   "metadata": {},
   "outputs": [],
   "source": [
    "class KNN_classify:\n",
    "    def __init__(self, X, y, y_names):\n",
    "        self.X = X\n",
    "        self.y = y\n",
    "        self.y_names = y_names\n",
    "        print('KNN_classify 객체를 생성했습니다.')\n",
    "        \n",
    "    def predict(self, X_test, k=3, weight=False): # KNN 예측치 반환하는 함수\n",
    "        if type(X_test) != type(self.X): # ndarray가 아니면\n",
    "            try: X_test = np.array(X_test)\n",
    "            except: raise Exception('test set must be iterable and can be tranformed as ndarray')\n",
    "        \n",
    "        if len(X_test.shape) <= 1: # X_test가 스칼라 또는 1차원 경우\n",
    "            try: X_test = X_test.reshape(1, X_test.shape[0]) # 2차원으로 변경\n",
    "            except: raise Exception('test set must not be scalar')\n",
    "            \n",
    "        if X_test.shape[1] != self.X.shape[1]: # train과 test의 column 수가 다른 경우\n",
    "            raise Exception('The number of columns is different between X_train and X_test')\n",
    "        \n",
    "        pred_res = []\n",
    "        for xt in X_test:            \n",
    "            dist = np.sqrt(((self.X-xt)**2).sum(axis=1)) # 거리 계산\n",
    "            k_index = dist.argsort()[1:k+1] # 본인 제외 거리가 가장 가까운 k개의 인덱스\n",
    "            \n",
    "            if weight: \n",
    "                weights = 1/dist[k_index]\n",
    "                res = KNN_classify.__weighted(self, weights, self.y[k_index])\n",
    "            else: res = KNN_classify.__mode(self, self.y[k_index]) # k개 중 가장 많은 label\n",
    "            \n",
    "            pred_res.append(res)\n",
    "        \n",
    "        pred_res = np.array(pred_res)\n",
    "\n",
    "        return pred_res\n",
    "    \n",
    "    def __predict_cv(self, X_train, y_train, X_test, k, weight=False): # CV 과정에서 KNN 예측치 반환하는 함수\n",
    "        if type(X_test) != type(self.X): # ndarray가 아니면\n",
    "            try: X_test = np.array(X_test)\n",
    "            except: raise Exception('test set must be iterable and can be tranformed as ndarray')\n",
    "        \n",
    "        if len(X_test.shape) <= 1: # X_test가 스칼라 또는 1차원 경우\n",
    "            try: X_test = X_test.reshape(1, X_test.shape[0]) # 2차원으로 변경\n",
    "            except: raise Exception('test set must not be scalar')\n",
    "            \n",
    "        if X_test.shape[1] != X_train.shape[1]: # train과 test의 column 수가 다른 경우\n",
    "            raise Exception('The number of columns is different between X_train and X_test')\n",
    "        \n",
    "        pred_res = []\n",
    "        for xt in X_test:\n",
    "            dist = np.sqrt(((X_train-xt)**2).sum(axis=1)) # 거리 계산\n",
    "            k_index = dist.argsort()[:k] # 거리가 가장 가까운 k개의 인덱스\n",
    "            \n",
    "            if weight:\n",
    "                weights = 1/dist[k_index]\n",
    "                res = KNN_classify.__weighted(self, weights, y_train[k_index]) # k개 중 weight가 가장 높은 label\n",
    "            else: res = KNN_classify.__mode(self, y_train[k_index]) # k개 중 가장 많은 label\n",
    "            \n",
    "            pred_res.append(res)\n",
    "        \n",
    "        pred_res = np.array(pred_res)\n",
    "\n",
    "        return pred_res\n",
    "\n",
    "    def accuracy(self, res, y_test): # KNN 예측결과 정답률 계산\n",
    "        return round(len(res[res == y_test]) / len(res), 4)\n",
    "    \n",
    "    def __mode(self, arr): # 최빈값을 구하는 함수\n",
    "        d = dict()\n",
    "        for key in set(arr):\n",
    "            d.setdefault(key, 0)\n",
    "        for x in arr:\n",
    "            d[x] += 1\n",
    "\n",
    "        res = sorted(list(d.items()), key=lambda x: x[1], reverse=True)[0][0]\n",
    "\n",
    "        return res\n",
    "    \n",
    "    def __weighted(self, weights, arr):\n",
    "        d = dict()\n",
    "        for key in set(arr):\n",
    "            d.setdefault(key, 0)\n",
    "        for x in range(len(arr)):\n",
    "            d[arr[x]] += weights[x]\n",
    "        res = sorted(list(d.items()), key=lambda x: x[1], reverse=True)[0][0]\n",
    "        \n",
    "        return res\n",
    "    \n",
    "    def CV(self, cv=10, k_min=1, k_max=100, weight=False):\n",
    "        time.sleep(0.5)\n",
    "        self.cv = cv\n",
    "        np.random.seed(970205)\n",
    "        self.shuffled = np.arange(0,len(self.X)) # 입력 랜덤 셔플링을 위한 인덱스\n",
    "        np.random.shuffle(self.shuffled)\n",
    "        X_s = self.X[self.shuffled]\n",
    "        y_s = self.y[self.shuffled]\n",
    "\n",
    "        if k_min < 1: \n",
    "            print('k_min must be 1 or bigger. Replace prior k_min with 1')\n",
    "            k_min = 1\n",
    "        if k_max < k_min:\n",
    "            raise Exception('k_max must be bigger than k_min')\n",
    "\n",
    "        t = len(X_s)//cv # test set의 원소 개수\n",
    "        self.cv_acc = pd.DataFrame(columns=['accuracy']) # k번째 cv결과로 나온 accuracy\n",
    "        \n",
    "        for k in tqdm(range(k_min, k_max)):\n",
    "            acc_sum = 0\n",
    "            for c in range(1, cv+1):\n",
    "                X_test = X_s[(c-1)*t:c*t]\n",
    "                y_test = y_s[(c-1)*t:c*t]\n",
    "\n",
    "                X_train = np.concatenate([X_s[0:(c-1)*t], X_s[c*t:len(X_s)]])\n",
    "                y_train = np.concatenate([y_s[0:(c-1)*t], y_s[c*t:len(X_s)]])\n",
    "                \n",
    "                res = KNN_classify.__predict_cv(self, X_train, y_train, X_test, k, weight=weight)\n",
    "                acc = KNN_classify.accuracy(self, res, y_test)\n",
    "                acc_sum += acc\n",
    "                \n",
    "            self.cv_acc.loc[k] = acc_sum/cv\n",
    "        \n",
    "        self.optimal_k = self.cv_acc.idxmax()[0]\n",
    "        self.optimal_accuracy = round(self.cv_acc.max()[0], 4)\n",
    "        \n",
    "        return self.cv_acc\n",
    "    \n",
    "    def conf_mat(self, pred, ans): # confusion matrix를 구하는 함수\n",
    "        pairs = np.array([pred, ans]).T # 예측치와 정답을 쌍으로 묶음\n",
    "\n",
    "        cate = np.unique(predict)\n",
    "        cate_names = [y_names[i] for i in cate]\n",
    "\n",
    "        self.confusion_matrix = pd.DataFrame(np.zeros((len(cate), len(cate))))\n",
    "        self.confusion_matrix.columns = cate_names\n",
    "        self.confusion_matrix.columns.names = ['Answer']\n",
    "        self.confusion_matrix.index = cate_names\n",
    "        self.confusion_matrix.index.names=['Prediction']\n",
    "\n",
    "        for p, a in pairs:\n",
    "            self.confusion_matrix.loc[cate_names[a], cate_names[p]] += 1\n",
    "\n",
    "        self.confusion_matrix\n",
    "        \n",
    "        return self.confusion_matrix"
   ]
  },
  {
   "cell_type": "code",
   "execution_count": 3,
   "metadata": {},
   "outputs": [],
   "source": [
    "def scale(arr, center=True, standard=True): # 정규화 함수\n",
    "    arr = np.array(arr)\n",
    "    if standard: return (arr-arr.mean(axis=0))/arr.std(axis=0)\n",
    "    elif center: return arr-arr.mean(axis=0)\n",
    "    else: return arr"
   ]
  },
  {
   "cell_type": "markdown",
   "metadata": {},
   "source": [
    "## cancer data"
   ]
  },
  {
   "cell_type": "code",
   "execution_count": 4,
   "metadata": {},
   "outputs": [],
   "source": [
    "cancer = datasets.load_breast_cancer()\n",
    "X = cancer.data\n",
    "y = cancer.target\n",
    "X = scale(X)\n",
    "\n",
    "y_names = cancer.target_names"
   ]
  },
  {
   "cell_type": "markdown",
   "metadata": {},
   "source": [
    "### no weight"
   ]
  },
  {
   "cell_type": "code",
   "execution_count": 5,
   "metadata": {
    "scrolled": false
   },
   "outputs": [
    {
     "name": "stdout",
     "output_type": "stream",
     "text": [
      "KNN_classify 객체를 생성했습니다.\n"
     ]
    },
    {
     "name": "stderr",
     "output_type": "stream",
     "text": [
      "100%|██████████████████████████████████████████████████████████████████████████████████| 99/99 [00:08<00:00, 12.10it/s]\n"
     ]
    },
    {
     "data": {
      "text/html": [
       "<div>\n",
       "<style scoped>\n",
       "    .dataframe tbody tr th:only-of-type {\n",
       "        vertical-align: middle;\n",
       "    }\n",
       "\n",
       "    .dataframe tbody tr th {\n",
       "        vertical-align: top;\n",
       "    }\n",
       "\n",
       "    .dataframe thead th {\n",
       "        text-align: right;\n",
       "    }\n",
       "</style>\n",
       "<table border=\"1\" class=\"dataframe\">\n",
       "  <thead>\n",
       "    <tr style=\"text-align: right;\">\n",
       "      <th></th>\n",
       "      <th>accuracy</th>\n",
       "    </tr>\n",
       "  </thead>\n",
       "  <tbody>\n",
       "    <tr>\n",
       "      <th>1</th>\n",
       "      <td>0.94284</td>\n",
       "    </tr>\n",
       "    <tr>\n",
       "      <th>2</th>\n",
       "      <td>0.94820</td>\n",
       "    </tr>\n",
       "    <tr>\n",
       "      <th>3</th>\n",
       "      <td>0.96606</td>\n",
       "    </tr>\n",
       "    <tr>\n",
       "      <th>4</th>\n",
       "      <td>0.96962</td>\n",
       "    </tr>\n",
       "    <tr>\n",
       "      <th>5</th>\n",
       "      <td>0.97141</td>\n",
       "    </tr>\n",
       "    <tr>\n",
       "      <th>...</th>\n",
       "      <td>...</td>\n",
       "    </tr>\n",
       "    <tr>\n",
       "      <th>95</th>\n",
       "      <td>0.93750</td>\n",
       "    </tr>\n",
       "    <tr>\n",
       "      <th>96</th>\n",
       "      <td>0.93750</td>\n",
       "    </tr>\n",
       "    <tr>\n",
       "      <th>97</th>\n",
       "      <td>0.93571</td>\n",
       "    </tr>\n",
       "    <tr>\n",
       "      <th>98</th>\n",
       "      <td>0.93571</td>\n",
       "    </tr>\n",
       "    <tr>\n",
       "      <th>99</th>\n",
       "      <td>0.93393</td>\n",
       "    </tr>\n",
       "  </tbody>\n",
       "</table>\n",
       "<p>99 rows × 1 columns</p>\n",
       "</div>"
      ],
      "text/plain": [
       "    accuracy\n",
       "1    0.94284\n",
       "2    0.94820\n",
       "3    0.96606\n",
       "4    0.96962\n",
       "5    0.97141\n",
       "..       ...\n",
       "95   0.93750\n",
       "96   0.93750\n",
       "97   0.93571\n",
       "98   0.93571\n",
       "99   0.93393\n",
       "\n",
       "[99 rows x 1 columns]"
      ]
     },
     "execution_count": 5,
     "metadata": {},
     "output_type": "execute_result"
    }
   ],
   "source": [
    "c = KNN_classify(X, y, y_names)\n",
    "c.CV()"
   ]
  },
  {
   "cell_type": "code",
   "execution_count": 6,
   "metadata": {},
   "outputs": [
    {
     "data": {
      "image/png": "[encoded data removed]",
      "text/plain": [
       "<Figure size 432x288 with 1 Axes>"
      ]
     },
     "metadata": {
      "needs_background": "light"
     },
     "output_type": "display_data"
    }
   ],
   "source": [
    "c.cv_acc.plot(color='black')\n",
    "plt.scatter(c.optimal_k, c.optimal_accuracy, color='red')\n",
    "\n",
    "plt.axhline(c.optimal_accuracy, ls='--')\n",
    "plt.axvline(c.optimal_k, ls='--')\n",
    "\n",
    "plt.annotate(f'({c.optimal_k}, {c.optimal_accuracy})', xy=(c.optimal_k, c.optimal_accuracy),\n",
    "            arrowprops=dict(arrowstyle='->', linewidth=3, color='blue'), xytext=(30,0.935), color='blue')\n",
    "\n",
    "plt.show()"
   ]
  },
  {
   "cell_type": "code",
   "execution_count": 7,
   "metadata": {},
   "outputs": [
    {
     "name": "stdout",
     "output_type": "stream",
     "text": [
      "accuracy: 0.9701\n"
     ]
    },
    {
     "data": {
      "text/html": [
       "<div>\n",
       "<style scoped>\n",
       "    .dataframe tbody tr th:only-of-type {\n",
       "        vertical-align: middle;\n",
       "    }\n",
       "\n",
       "    .dataframe tbody tr th {\n",
       "        vertical-align: top;\n",
       "    }\n",
       "\n",
       "    .dataframe thead th {\n",
       "        text-align: right;\n",
       "    }\n",
       "</style>\n",
       "<table border=\"1\" class=\"dataframe\">\n",
       "  <thead>\n",
       "    <tr style=\"text-align: right;\">\n",
       "      <th>Answer</th>\n",
       "      <th>malignant</th>\n",
       "      <th>benign</th>\n",
       "    </tr>\n",
       "    <tr>\n",
       "      <th>Prediction</th>\n",
       "      <th></th>\n",
       "      <th></th>\n",
       "    </tr>\n",
       "  </thead>\n",
       "  <tbody>\n",
       "    <tr>\n",
       "      <th>malignant</th>\n",
       "      <td>198.0</td>\n",
       "      <td>14.0</td>\n",
       "    </tr>\n",
       "    <tr>\n",
       "      <th>benign</th>\n",
       "      <td>3.0</td>\n",
       "      <td>354.0</td>\n",
       "    </tr>\n",
       "  </tbody>\n",
       "</table>\n",
       "</div>"
      ],
      "text/plain": [
       "Answer      malignant  benign\n",
       "Prediction                   \n",
       "malignant       198.0    14.0\n",
       "benign            3.0   354.0"
      ]
     },
     "execution_count": 7,
     "metadata": {},
     "output_type": "execute_result"
    }
   ],
   "source": [
    "predict = c.predict(X, k=5)\n",
    "print(f'accuracy: {c.accuracy(predict, y)}')\n",
    "c.conf_mat(predict, y)"
   ]
  },
  {
   "cell_type": "markdown",
   "metadata": {},
   "source": [
    "### weight"
   ]
  },
  {
   "cell_type": "code",
   "execution_count": 8,
   "metadata": {
    "scrolled": true
   },
   "outputs": [
    {
     "name": "stdout",
     "output_type": "stream",
     "text": [
      "KNN_classify 객체를 생성했습니다.\n"
     ]
    },
    {
     "name": "stderr",
     "output_type": "stream",
     "text": [
      "100%|██████████████████████████████████████████████████████████████████████████████████| 99/99 [00:09<00:00, 10.31it/s]\n"
     ]
    },
    {
     "data": {
      "text/html": [
       "<div>\n",
       "<style scoped>\n",
       "    .dataframe tbody tr th:only-of-type {\n",
       "        vertical-align: middle;\n",
       "    }\n",
       "\n",
       "    .dataframe tbody tr th {\n",
       "        vertical-align: top;\n",
       "    }\n",
       "\n",
       "    .dataframe thead th {\n",
       "        text-align: right;\n",
       "    }\n",
       "</style>\n",
       "<table border=\"1\" class=\"dataframe\">\n",
       "  <thead>\n",
       "    <tr style=\"text-align: right;\">\n",
       "      <th></th>\n",
       "      <th>accuracy</th>\n",
       "    </tr>\n",
       "  </thead>\n",
       "  <tbody>\n",
       "    <tr>\n",
       "      <th>1</th>\n",
       "      <td>0.94284</td>\n",
       "    </tr>\n",
       "    <tr>\n",
       "      <th>2</th>\n",
       "      <td>0.94284</td>\n",
       "    </tr>\n",
       "    <tr>\n",
       "      <th>3</th>\n",
       "      <td>0.96606</td>\n",
       "    </tr>\n",
       "    <tr>\n",
       "      <th>4</th>\n",
       "      <td>0.96784</td>\n",
       "    </tr>\n",
       "    <tr>\n",
       "      <th>5</th>\n",
       "      <td>0.97141</td>\n",
       "    </tr>\n",
       "    <tr>\n",
       "      <th>...</th>\n",
       "      <td>...</td>\n",
       "    </tr>\n",
       "    <tr>\n",
       "      <th>95</th>\n",
       "      <td>0.94107</td>\n",
       "    </tr>\n",
       "    <tr>\n",
       "      <th>96</th>\n",
       "      <td>0.94285</td>\n",
       "    </tr>\n",
       "    <tr>\n",
       "      <th>97</th>\n",
       "      <td>0.94285</td>\n",
       "    </tr>\n",
       "    <tr>\n",
       "      <th>98</th>\n",
       "      <td>0.93929</td>\n",
       "    </tr>\n",
       "    <tr>\n",
       "      <th>99</th>\n",
       "      <td>0.94107</td>\n",
       "    </tr>\n",
       "  </tbody>\n",
       "</table>\n",
       "<p>99 rows × 1 columns</p>\n",
       "</div>"
      ],
      "text/plain": [
       "    accuracy\n",
       "1    0.94284\n",
       "2    0.94284\n",
       "3    0.96606\n",
       "4    0.96784\n",
       "5    0.97141\n",
       "..       ...\n",
       "95   0.94107\n",
       "96   0.94285\n",
       "97   0.94285\n",
       "98   0.93929\n",
       "99   0.94107\n",
       "\n",
       "[99 rows x 1 columns]"
      ]
     },
     "execution_count": 8,
     "metadata": {},
     "output_type": "execute_result"
    }
   ],
   "source": [
    "c = KNN_classify(X, y, y_names)\n",
    "c.CV(weight=True)"
   ]
  },
  {
   "cell_type": "code",
   "execution_count": 9,
   "metadata": {
    "scrolled": true
   },
   "outputs": [
    {
     "data": {
      "image/png": "[encoded data removed]",
      "text/plain": [
       "<Figure size 432x288 with 1 Axes>"
      ]
     },
     "metadata": {
      "needs_background": "light"
     },
     "output_type": "display_data"
    }
   ],
   "source": [
    "c.cv_acc.plot(color='black')\n",
    "plt.scatter(c.optimal_k, c.optimal_accuracy, color='red')\n",
    "\n",
    "plt.axhline(c.optimal_accuracy, ls='--')\n",
    "plt.axvline(c.optimal_k, ls='--')\n",
    "\n",
    "plt.annotate(f'({c.optimal_k}, {c.optimal_accuracy})', xy=(c.optimal_k, c.optimal_accuracy),\n",
    "            arrowprops=dict(arrowstyle='->', linewidth=3, color='blue'), xytext=(30,0.945), color='blue')\n",
    "\n",
    "plt.show()"
   ]
  },
  {
   "cell_type": "code",
   "execution_count": 10,
   "metadata": {},
   "outputs": [
    {
     "name": "stdout",
     "output_type": "stream",
     "text": [
      "accuracy: 0.9701\n"
     ]
    },
    {
     "data": {
      "text/html": [
       "<div>\n",
       "<style scoped>\n",
       "    .dataframe tbody tr th:only-of-type {\n",
       "        vertical-align: middle;\n",
       "    }\n",
       "\n",
       "    .dataframe tbody tr th {\n",
       "        vertical-align: top;\n",
       "    }\n",
       "\n",
       "    .dataframe thead th {\n",
       "        text-align: right;\n",
       "    }\n",
       "</style>\n",
       "<table border=\"1\" class=\"dataframe\">\n",
       "  <thead>\n",
       "    <tr style=\"text-align: right;\">\n",
       "      <th>Answer</th>\n",
       "      <th>malignant</th>\n",
       "      <th>benign</th>\n",
       "    </tr>\n",
       "    <tr>\n",
       "      <th>Prediction</th>\n",
       "      <th></th>\n",
       "      <th></th>\n",
       "    </tr>\n",
       "  </thead>\n",
       "  <tbody>\n",
       "    <tr>\n",
       "      <th>malignant</th>\n",
       "      <td>198.0</td>\n",
       "      <td>14.0</td>\n",
       "    </tr>\n",
       "    <tr>\n",
       "      <th>benign</th>\n",
       "      <td>3.0</td>\n",
       "      <td>354.0</td>\n",
       "    </tr>\n",
       "  </tbody>\n",
       "</table>\n",
       "</div>"
      ],
      "text/plain": [
       "Answer      malignant  benign\n",
       "Prediction                   \n",
       "malignant       198.0    14.0\n",
       "benign            3.0   354.0"
      ]
     },
     "execution_count": 10,
     "metadata": {},
     "output_type": "execute_result"
    }
   ],
   "source": [
    "predict = c.predict(X, k=5, weight=True)\n",
    "print(f'accuracy: {c.accuracy(predict, y)}')\n",
    "c.conf_mat(predict, y)"
   ]
  },
  {
   "cell_type": "markdown",
   "metadata": {},
   "source": [
    "# iris data"
   ]
  },
  {
   "cell_type": "code",
   "execution_count": 11,
   "metadata": {},
   "outputs": [],
   "source": [
    "iris = datasets.load_iris()\n",
    "\n",
    "X = iris.data[:, :2]\n",
    "y = iris.target\n",
    "X = scale(X)\n",
    "\n",
    "x_names = iris.feature_names\n",
    "y_names = iris.target_names"
   ]
  },
  {
   "cell_type": "markdown",
   "metadata": {},
   "source": [
    "### no weight"
   ]
  },
  {
   "cell_type": "code",
   "execution_count": 12,
   "metadata": {},
   "outputs": [
    {
     "name": "stdout",
     "output_type": "stream",
     "text": [
      "KNN_classify 객체를 생성했습니다.\n"
     ]
    },
    {
     "name": "stderr",
     "output_type": "stream",
     "text": [
      "100%|████████████████████████████████████████████████████████████████████████████████| 100/100 [00:01<00:00, 66.67it/s]\n"
     ]
    },
    {
     "data": {
      "text/html": [
       "<div>\n",
       "<style scoped>\n",
       "    .dataframe tbody tr th:only-of-type {\n",
       "        vertical-align: middle;\n",
       "    }\n",
       "\n",
       "    .dataframe tbody tr th {\n",
       "        vertical-align: top;\n",
       "    }\n",
       "\n",
       "    .dataframe thead th {\n",
       "        text-align: right;\n",
       "    }\n",
       "</style>\n",
       "<table border=\"1\" class=\"dataframe\">\n",
       "  <thead>\n",
       "    <tr style=\"text-align: right;\">\n",
       "      <th></th>\n",
       "      <th>accuracy</th>\n",
       "    </tr>\n",
       "  </thead>\n",
       "  <tbody>\n",
       "    <tr>\n",
       "      <th>1</th>\n",
       "      <td>0.72667</td>\n",
       "    </tr>\n",
       "    <tr>\n",
       "      <th>2</th>\n",
       "      <td>0.70000</td>\n",
       "    </tr>\n",
       "    <tr>\n",
       "      <th>3</th>\n",
       "      <td>0.72668</td>\n",
       "    </tr>\n",
       "    <tr>\n",
       "      <th>4</th>\n",
       "      <td>0.76001</td>\n",
       "    </tr>\n",
       "    <tr>\n",
       "      <th>5</th>\n",
       "      <td>0.78668</td>\n",
       "    </tr>\n",
       "    <tr>\n",
       "      <th>...</th>\n",
       "      <td>...</td>\n",
       "    </tr>\n",
       "    <tr>\n",
       "      <th>96</th>\n",
       "      <td>0.76000</td>\n",
       "    </tr>\n",
       "    <tr>\n",
       "      <th>97</th>\n",
       "      <td>0.75334</td>\n",
       "    </tr>\n",
       "    <tr>\n",
       "      <th>98</th>\n",
       "      <td>0.74667</td>\n",
       "    </tr>\n",
       "    <tr>\n",
       "      <th>99</th>\n",
       "      <td>0.75334</td>\n",
       "    </tr>\n",
       "    <tr>\n",
       "      <th>100</th>\n",
       "      <td>0.75335</td>\n",
       "    </tr>\n",
       "  </tbody>\n",
       "</table>\n",
       "<p>100 rows × 1 columns</p>\n",
       "</div>"
      ],
      "text/plain": [
       "     accuracy\n",
       "1     0.72667\n",
       "2     0.70000\n",
       "3     0.72668\n",
       "4     0.76001\n",
       "5     0.78668\n",
       "..        ...\n",
       "96    0.76000\n",
       "97    0.75334\n",
       "98    0.74667\n",
       "99    0.75334\n",
       "100   0.75335\n",
       "\n",
       "[100 rows x 1 columns]"
      ]
     },
     "execution_count": 12,
     "metadata": {},
     "output_type": "execute_result"
    }
   ],
   "source": [
    "a = KNN_classify(X, y, y_names)\n",
    "a.predict(X)\n",
    "a.CV(k_max=101)"
   ]
  },
  {
   "cell_type": "code",
   "execution_count": 13,
   "metadata": {},
   "outputs": [
    {
     "data": {
      "image/png": "[encoded data removed]",
      "text/plain": [
       "<Figure size 432x288 with 1 Axes>"
      ]
     },
     "metadata": {
      "needs_background": "light"
     },
     "output_type": "display_data"
    }
   ],
   "source": [
    "a.cv_acc.plot(color='k')\n",
    "\n",
    "plt.axhline(a.optimal_accuracy, ls='--')\n",
    "plt.axvline(a.optimal_k, ls='--')\n",
    "\n",
    "plt.scatter(a.optimal_k, a.optimal_accuracy, color='red', s=40)\n",
    "\n",
    "plt.annotate(f'({a.optimal_k}, {round(a.optimal_accuracy, 4)})', xy=(a.optimal_k, a.optimal_accuracy), xytext=(42,0.77),\n",
    "            arrowprops=dict(arrowstyle='->', color='blue', linewidth=3))\n",
    "\n",
    "\n",
    "plt.show()"
   ]
  },
  {
   "cell_type": "code",
   "execution_count": 14,
   "metadata": {},
   "outputs": [
    {
     "name": "stdout",
     "output_type": "stream",
     "text": [
      "accuracy: 0.76\n"
     ]
    },
    {
     "data": {
      "text/html": [
       "<div>\n",
       "<style scoped>\n",
       "    .dataframe tbody tr th:only-of-type {\n",
       "        vertical-align: middle;\n",
       "    }\n",
       "\n",
       "    .dataframe tbody tr th {\n",
       "        vertical-align: top;\n",
       "    }\n",
       "\n",
       "    .dataframe thead th {\n",
       "        text-align: right;\n",
       "    }\n",
       "</style>\n",
       "<table border=\"1\" class=\"dataframe\">\n",
       "  <thead>\n",
       "    <tr style=\"text-align: right;\">\n",
       "      <th>Answer</th>\n",
       "      <th>setosa</th>\n",
       "      <th>versicolor</th>\n",
       "      <th>virginica</th>\n",
       "    </tr>\n",
       "    <tr>\n",
       "      <th>Prediction</th>\n",
       "      <th></th>\n",
       "      <th></th>\n",
       "      <th></th>\n",
       "    </tr>\n",
       "  </thead>\n",
       "  <tbody>\n",
       "    <tr>\n",
       "      <th>setosa</th>\n",
       "      <td>49.0</td>\n",
       "      <td>1.0</td>\n",
       "      <td>0.0</td>\n",
       "    </tr>\n",
       "    <tr>\n",
       "      <th>versicolor</th>\n",
       "      <td>0.0</td>\n",
       "      <td>31.0</td>\n",
       "      <td>19.0</td>\n",
       "    </tr>\n",
       "    <tr>\n",
       "      <th>virginica</th>\n",
       "      <td>0.0</td>\n",
       "      <td>16.0</td>\n",
       "      <td>34.0</td>\n",
       "    </tr>\n",
       "  </tbody>\n",
       "</table>\n",
       "</div>"
      ],
      "text/plain": [
       "Answer      setosa  versicolor  virginica\n",
       "Prediction                               \n",
       "setosa        49.0         1.0        0.0\n",
       "versicolor     0.0        31.0       19.0\n",
       "virginica      0.0        16.0       34.0"
      ]
     },
     "execution_count": 14,
     "metadata": {},
     "output_type": "execute_result"
    }
   ],
   "source": [
    "predict = a.predict(X, k=13)\n",
    "print(f'accuracy: {a.accuracy(predict, y)}')\n",
    "a.conf_mat(predict, y)"
   ]
  },
  {
   "cell_type": "markdown",
   "metadata": {},
   "source": [
    "### weight"
   ]
  },
  {
   "cell_type": "code",
   "execution_count": null,
   "metadata": {},
   "outputs": [
    {
     "name": "stdout",
     "output_type": "stream",
     "text": [
      "KNN_classify 객체를 생성했습니다.\n"
     ]
    },
    {
     "name": "stderr",
     "output_type": "stream",
     "text": [
      "  0%|                                                                                          | 0/100 [00:00<?, ?it/s]C:\\Users\\HARAM\\Anaconda3\\lib\\site-packages\\ipykernel_launcher.py:54: RuntimeWarning: divide by zero encountered in true_divide\n",
      " 50%|████████████████████████████████████████▌                                        | 50/100 [00:00<00:00, 61.40it/s]"
     ]
    }
   ],
   "source": [
    "a = KNN_classify(X, y, y_names)\n",
    "a.CV(k_max=101, weight=True)"
   ]
  },
  {
   "cell_type": "code",
   "execution_count": null,
   "metadata": {},
   "outputs": [],
   "source": [
    "a.cv_acc.plot(color='k')\n",
    "\n",
    "plt.axhline(a.optimal_accuracy, ls='--')\n",
    "plt.axvline(a.optimal_k, ls='--')\n",
    "\n",
    "plt.scatter(a.optimal_k, a.optimal_accuracy, color='red', s=40)\n",
    "\n",
    "plt.annotate(f'({a.optimal_k}, {round(a.optimal_accuracy, 4)})', xy=(a.optimal_k, a.optimal_accuracy), xytext=(30,0.95),\n",
    "            arrowprops=dict(arrowstyle='->', color='blue', linewidth=3))\n",
    "\n",
    "\n",
    "plt.show()"
   ]
  },
  {
   "cell_type": "code",
   "execution_count": null,
   "metadata": {},
   "outputs": [],
   "source": [
    "predict = a.predict(X, k=14)\n",
    "print(f'accuracy: {a.accuracy(predict, y)}')\n",
    "a.conf_mat(predict, y)"
   ]
  }
 ],
 "metadata": {
  "kernelspec": {
   "display_name": "Python 3",
   "language": "python",
   "name": "python3"
  },
  "language_info": {
   "codemirror_mode": {
    "name": "ipython",
    "version": 3
   },
   "file_extension": ".py",
   "mimetype": "text/x-python",
   "name": "python",
   "nbconvert_exporter": "python",
   "pygments_lexer": "ipython3",
   "version": "3.7.6"
  }
 },
 "nbformat": 4,
 "nbformat_minor": 2
}
